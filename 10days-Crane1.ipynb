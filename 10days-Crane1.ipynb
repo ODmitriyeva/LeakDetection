{
 "cells": [
  {
   "cell_type": "code",
   "execution_count": 81,
   "metadata": {},
   "outputs": [
    {
     "name": "stdout",
     "output_type": "stream",
     "text": [
      "D:\\OneDrive - LTI\\LTI\\Projects\\DCP\\Tasks\\9Leakdetection\n"
     ]
    }
   ],
   "source": [
    "import pandas as pd\n",
    "import numpy as np\n",
    "import os\n",
    "print(os.getcwd())"
   ]
  },
  {
   "cell_type": "code",
   "execution_count": 87,
   "metadata": {},
   "outputs": [],
   "source": [
    "craneData = pd.read_csv(\"Data/Crane1.csv\")"
   ]
  },
  {
   "cell_type": "code",
   "execution_count": 88,
   "metadata": {},
   "outputs": [
    {
     "data": {
      "text/plain": [
       "array(['Date', '04892-00', '18135-00', '18463-00', '18464-00', '18466-00',\n",
       "       '31863-00', '31888-00', '31954-00', 'L_N_U'], dtype=object)"
      ]
     },
     "execution_count": 88,
     "metadata": {},
     "output_type": "execute_result"
    }
   ],
   "source": [
    "craneData.columns.values"
   ]
  },
  {
   "cell_type": "code",
   "execution_count": 89,
   "metadata": {},
   "outputs": [
    {
     "data": {
      "text/html": [
       "<div>\n",
       "<style scoped>\n",
       "    .dataframe tbody tr th:only-of-type {\n",
       "        vertical-align: middle;\n",
       "    }\n",
       "\n",
       "    .dataframe tbody tr th {\n",
       "        vertical-align: top;\n",
       "    }\n",
       "\n",
       "    .dataframe thead th {\n",
       "        text-align: right;\n",
       "    }\n",
       "</style>\n",
       "<table border=\"1\" class=\"dataframe\">\n",
       "  <thead>\n",
       "    <tr style=\"text-align: right;\">\n",
       "      <th></th>\n",
       "      <th>Date</th>\n",
       "      <th>04892-00</th>\n",
       "      <th>18135-00</th>\n",
       "      <th>18463-00</th>\n",
       "      <th>18464-00</th>\n",
       "      <th>18466-00</th>\n",
       "      <th>31863-00</th>\n",
       "      <th>31888-00</th>\n",
       "      <th>31954-00</th>\n",
       "      <th>L_N_U</th>\n",
       "    </tr>\n",
       "  </thead>\n",
       "  <tbody>\n",
       "    <tr>\n",
       "      <th>0</th>\n",
       "      <td>1/31/2017</td>\n",
       "      <td>7.49</td>\n",
       "      <td>12.90</td>\n",
       "      <td>20.04</td>\n",
       "      <td>13.69</td>\n",
       "      <td>13.00</td>\n",
       "      <td>12.60</td>\n",
       "      <td>12.35</td>\n",
       "      <td>15.30</td>\n",
       "      <td>-526</td>\n",
       "    </tr>\n",
       "    <tr>\n",
       "      <th>1</th>\n",
       "      <td>2/1/2017</td>\n",
       "      <td>6.31</td>\n",
       "      <td>13.46</td>\n",
       "      <td>20.54</td>\n",
       "      <td>14.34</td>\n",
       "      <td>13.48</td>\n",
       "      <td>13.14</td>\n",
       "      <td>12.89</td>\n",
       "      <td>16.42</td>\n",
       "      <td>-508</td>\n",
       "    </tr>\n",
       "    <tr>\n",
       "      <th>2</th>\n",
       "      <td>2/2/2017</td>\n",
       "      <td>7.06</td>\n",
       "      <td>16.67</td>\n",
       "      <td>21.96</td>\n",
       "      <td>17.58</td>\n",
       "      <td>16.72</td>\n",
       "      <td>16.75</td>\n",
       "      <td>16.53</td>\n",
       "      <td>18.87</td>\n",
       "      <td>-723</td>\n",
       "    </tr>\n",
       "    <tr>\n",
       "      <th>3</th>\n",
       "      <td>2/3/2017</td>\n",
       "      <td>7.19</td>\n",
       "      <td>17.09</td>\n",
       "      <td>21.75</td>\n",
       "      <td>17.89</td>\n",
       "      <td>17.19</td>\n",
       "      <td>16.89</td>\n",
       "      <td>16.67</td>\n",
       "      <td>19.65</td>\n",
       "      <td>-638</td>\n",
       "    </tr>\n",
       "    <tr>\n",
       "      <th>4</th>\n",
       "      <td>2/4/2017</td>\n",
       "      <td>6.89</td>\n",
       "      <td>16.62</td>\n",
       "      <td>21.36</td>\n",
       "      <td>17.44</td>\n",
       "      <td>16.74</td>\n",
       "      <td>16.29</td>\n",
       "      <td>16.08</td>\n",
       "      <td>18.91</td>\n",
       "      <td>-685</td>\n",
       "    </tr>\n",
       "  </tbody>\n",
       "</table>\n",
       "</div>"
      ],
      "text/plain": [
       "        Date  04892-00  18135-00  18463-00  18464-00  18466-00  31863-00  \\\n",
       "0  1/31/2017      7.49     12.90     20.04     13.69     13.00     12.60   \n",
       "1   2/1/2017      6.31     13.46     20.54     14.34     13.48     13.14   \n",
       "2   2/2/2017      7.06     16.67     21.96     17.58     16.72     16.75   \n",
       "3   2/3/2017      7.19     17.09     21.75     17.89     17.19     16.89   \n",
       "4   2/4/2017      6.89     16.62     21.36     17.44     16.74     16.29   \n",
       "\n",
       "   31888-00  31954-00  L_N_U  \n",
       "0     12.35     15.30   -526  \n",
       "1     12.89     16.42   -508  \n",
       "2     16.53     18.87   -723  \n",
       "3     16.67     19.65   -638  \n",
       "4     16.08     18.91   -685  "
      ]
     },
     "execution_count": 89,
     "metadata": {},
     "output_type": "execute_result"
    }
   ],
   "source": [
    "craneData.head()"
   ]
  },
  {
   "cell_type": "code",
   "execution_count": 90,
   "metadata": {},
   "outputs": [],
   "source": [
    "craneData['Date'] = pd.to_datetime(craneData['Date'])"
   ]
  },
  {
   "cell_type": "code",
   "execution_count": 91,
   "metadata": {},
   "outputs": [],
   "source": [
    "craneData.set_index('Date', inplace=True)"
   ]
  },
  {
   "cell_type": "code",
   "execution_count": 92,
   "metadata": {},
   "outputs": [
    {
     "data": {
      "text/html": [
       "<div>\n",
       "<style scoped>\n",
       "    .dataframe tbody tr th:only-of-type {\n",
       "        vertical-align: middle;\n",
       "    }\n",
       "\n",
       "    .dataframe tbody tr th {\n",
       "        vertical-align: top;\n",
       "    }\n",
       "\n",
       "    .dataframe thead th {\n",
       "        text-align: right;\n",
       "    }\n",
       "</style>\n",
       "<table border=\"1\" class=\"dataframe\">\n",
       "  <thead>\n",
       "    <tr style=\"text-align: right;\">\n",
       "      <th></th>\n",
       "      <th>04892-00</th>\n",
       "      <th>18135-00</th>\n",
       "      <th>18463-00</th>\n",
       "      <th>18464-00</th>\n",
       "      <th>18466-00</th>\n",
       "      <th>31863-00</th>\n",
       "      <th>31888-00</th>\n",
       "      <th>31954-00</th>\n",
       "      <th>L_N_U</th>\n",
       "    </tr>\n",
       "    <tr>\n",
       "      <th>Date</th>\n",
       "      <th></th>\n",
       "      <th></th>\n",
       "      <th></th>\n",
       "      <th></th>\n",
       "      <th></th>\n",
       "      <th></th>\n",
       "      <th></th>\n",
       "      <th></th>\n",
       "      <th></th>\n",
       "    </tr>\n",
       "  </thead>\n",
       "  <tbody>\n",
       "    <tr>\n",
       "      <th>2017-01-31</th>\n",
       "      <td>7.49</td>\n",
       "      <td>12.90</td>\n",
       "      <td>20.04</td>\n",
       "      <td>13.69</td>\n",
       "      <td>13.00</td>\n",
       "      <td>12.60</td>\n",
       "      <td>12.35</td>\n",
       "      <td>15.30</td>\n",
       "      <td>-526</td>\n",
       "    </tr>\n",
       "    <tr>\n",
       "      <th>2017-02-01</th>\n",
       "      <td>6.31</td>\n",
       "      <td>13.46</td>\n",
       "      <td>20.54</td>\n",
       "      <td>14.34</td>\n",
       "      <td>13.48</td>\n",
       "      <td>13.14</td>\n",
       "      <td>12.89</td>\n",
       "      <td>16.42</td>\n",
       "      <td>-508</td>\n",
       "    </tr>\n",
       "    <tr>\n",
       "      <th>2017-02-02</th>\n",
       "      <td>7.06</td>\n",
       "      <td>16.67</td>\n",
       "      <td>21.96</td>\n",
       "      <td>17.58</td>\n",
       "      <td>16.72</td>\n",
       "      <td>16.75</td>\n",
       "      <td>16.53</td>\n",
       "      <td>18.87</td>\n",
       "      <td>-723</td>\n",
       "    </tr>\n",
       "    <tr>\n",
       "      <th>2017-02-03</th>\n",
       "      <td>7.19</td>\n",
       "      <td>17.09</td>\n",
       "      <td>21.75</td>\n",
       "      <td>17.89</td>\n",
       "      <td>17.19</td>\n",
       "      <td>16.89</td>\n",
       "      <td>16.67</td>\n",
       "      <td>19.65</td>\n",
       "      <td>-638</td>\n",
       "    </tr>\n",
       "    <tr>\n",
       "      <th>2017-02-04</th>\n",
       "      <td>6.89</td>\n",
       "      <td>16.62</td>\n",
       "      <td>21.36</td>\n",
       "      <td>17.44</td>\n",
       "      <td>16.74</td>\n",
       "      <td>16.29</td>\n",
       "      <td>16.08</td>\n",
       "      <td>18.91</td>\n",
       "      <td>-685</td>\n",
       "    </tr>\n",
       "  </tbody>\n",
       "</table>\n",
       "</div>"
      ],
      "text/plain": [
       "            04892-00  18135-00  18463-00  18464-00  18466-00  31863-00  \\\n",
       "Date                                                                     \n",
       "2017-01-31      7.49     12.90     20.04     13.69     13.00     12.60   \n",
       "2017-02-01      6.31     13.46     20.54     14.34     13.48     13.14   \n",
       "2017-02-02      7.06     16.67     21.96     17.58     16.72     16.75   \n",
       "2017-02-03      7.19     17.09     21.75     17.89     17.19     16.89   \n",
       "2017-02-04      6.89     16.62     21.36     17.44     16.74     16.29   \n",
       "\n",
       "            31888-00  31954-00  L_N_U  \n",
       "Date                                   \n",
       "2017-01-31     12.35     15.30   -526  \n",
       "2017-02-01     12.89     16.42   -508  \n",
       "2017-02-02     16.53     18.87   -723  \n",
       "2017-02-03     16.67     19.65   -638  \n",
       "2017-02-04     16.08     18.91   -685  "
      ]
     },
     "execution_count": 92,
     "metadata": {},
     "output_type": "execute_result"
    }
   ],
   "source": [
    "craneData.head()"
   ]
  },
  {
   "cell_type": "code",
   "execution_count": 93,
   "metadata": {},
   "outputs": [],
   "source": [
    "craneData10days = craneData.loc['2017-06-05':'2017-06-15']"
   ]
  },
  {
   "cell_type": "code",
   "execution_count": 97,
   "metadata": {},
   "outputs": [
    {
     "data": {
      "text/plain": [
       "<matplotlib.axes._subplots.AxesSubplot at 0x259d99300f0>"
      ]
     },
     "execution_count": 97,
     "metadata": {},
     "output_type": "execute_result"
    },
    {
     "data": {
      "image/png": "[encoded data removed]",
      "text/plain": [
       "<Figure size 432x288 with 1 Axes>"
      ]
     },
     "metadata": {
      "needs_background": "light"
     },
     "output_type": "display_data"
    }
   ],
   "source": [
    "craneData10days.plot('L_N_U', y='04892-00', style='o')"
   ]
  },
  {
   "cell_type": "code",
   "execution_count": 94,
   "metadata": {},
   "outputs": [],
   "source": [
    "from sklearn.cluster import DBSCAN\n",
    "from sklearn import metrics\n",
    "from sklearn.preprocessing import StandardScaler\n",
    "\n",
    "scaler = StandardScaler()\n",
    "X_scaled = scaler.fit_transform(craneData10days)"
   ]
  },
  {
   "cell_type": "code",
   "execution_count": 95,
   "metadata": {},
   "outputs": [],
   "source": [
    "# Compute DBSCAN\n",
    "db = DBSCAN(eps=0.1, min_samples=2).fit(X_scaled)"
   ]
  },
  {
   "cell_type": "code",
   "execution_count": 96,
   "metadata": {},
   "outputs": [
    {
     "name": "stdout",
     "output_type": "stream",
     "text": [
      "Estimated number of clusters: 0\n",
      "Estimated number of noise points: 11\n"
     ]
    }
   ],
   "source": [
    "core_samples_mask = np.zeros_like(db.labels_, dtype=bool)\n",
    "core_samples_mask[db.core_sample_indices_] = True\n",
    "labels = db.labels_\n",
    "\n",
    "# Number of clusters in labels, ignoring noise if present.\n",
    "n_clusters_ = len(set(labels)) - (1 if -1 in labels else 0)\n",
    "n_noise_ = list(labels).count(-1)\n",
    "\n",
    "print('Estimated number of clusters: %d' % n_clusters_)\n",
    "print('Estimated number of noise points: %d' % n_noise_)"
   ]
  }
 ],
 "metadata": {
  "kernelspec": {
   "display_name": "Python 3",
   "language": "python",
   "name": "python3"
  },
  "language_info": {
   "codemirror_mode": {
    "name": "ipython",
    "version": 3
   },
   "file_extension": ".py",
   "mimetype": "text/x-python",
   "name": "python",
   "nbconvert_exporter": "python",
   "pygments_lexer": "ipython3",
   "version": "3.6.8"
  }
 },
 "nbformat": 4,
 "nbformat_minor": 2
}
